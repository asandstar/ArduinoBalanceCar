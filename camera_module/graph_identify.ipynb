{
 "cells": [
  {
   "cell_type": "code",
   "execution_count": 1,
   "metadata": {},
   "outputs": [
    {
     "name": "stdout",
     "output_type": "stream",
     "text": [
      "[ rpyc-kernel ]( running at Fri Jul 21 16:23:48 2023 )\n",
      "Linux-4.9.118-armv7l-with-libc\n",
      "Fri Jul 21 08:23:49 2023\n"
     ]
    }
   ],
   "source": [
    "import platform\n",
    "print(platform.platform())\n",
    "\n",
    "import time\n",
    "print(time.asctime())"
   ]
  },
  {
   "cell_type": "code",
   "execution_count": 1,
   "metadata": {},
   "outputs": [
    {
     "name": "stdout",
     "output_type": "stream",
     "text": [
      "[ rpyc-kernel ]( running at Fri Jul 21 15:58:28 2023 )\n"
     ]
    }
   ],
   "source": [
    "from maix import display, image   \n",
    "hello_img = image.new(size = (240, 240), \n",
    "                              color = (255, 0, 0), mode = \"RGB\")     #创建一张红色背景图\n",
    "hello_img.draw_string(30, 115, \"hello world!\", scale = 1.0, \n",
    "                              color = (255, 255, 255), thickness = 1) #在红色背景图上写下hello world\n",
    "display.show(hello_img)   #把这张图显示出来"
   ]
  },
  {
   "cell_type": "code",
   "execution_count": 1,
   "metadata": {},
   "outputs": [
    {
     "data": {
      "image/jpeg": "[encoded data removed]"
     },
     "metadata": {},
     "output_type": "display_data"
    },
    {
     "data": {
      "text/plain": [
       "\r\n",
       "Traceback (most recent call last):\r\n",
       "  File \"<string>\", line unknown, in <module>\r\n",
       "Remote.KeyboardInterrupt\r\n"
      ]
     },
     "execution_count": 1,
     "metadata": {},
     "output_type": "execute_result"
    }
   ],
   "source": [
    "from maix import camera, display, image #引入python模块包\n",
    "\n",
    "while True:\n",
    "    img = camera.capture()    #从摄像头中获取一张图像\n",
    "    display.show(img)         #将图像显示出来"
   ]
  },
  {
   "cell_type": "code",
   "execution_count": 1,
   "metadata": {},
   "outputs": [
    {
     "name": "stdout",
     "output_type": "stream",
     "text": [
      "[ rpyc-kernel ]( running at Fri Jul 21 15:58:45 2023 )\n"
     ]
    }
   ],
   "source": [
    "from maix import image, display\n",
    "\n",
    "img = image.new(size = (240, 240), color = (0, 0, 0), \n",
    "                        mode = \"RGB\")     #创建一张黑色背景图\n",
    "\n",
    "img.draw_line(0, 0, 100, 100, color = (127, 127, 127), \n",
    "                        thickness = 1)  #画一条从（0,0）到（100,100）的白色线段\n",
    "\n",
    "display.show(img)"
   ]
  },
  {
   "cell_type": "code",
   "execution_count": 1,
   "metadata": {},
   "outputs": [
    {
     "data": {
      "image/jpeg": "[encoded data removed]"
     },
     "metadata": {},
     "output_type": "display_data"
    },
    {
     "name": "stdout",
     "output_type": "stream",
     "text": [
      "[ rpyc-kernel ]( running at Fri Jul 21 15:58:51 2023 )\n"
     ]
    }
   ],
   "source": [
    "from maix import image, display\n",
    "\n",
    "img = image.new(size = (240, 240), color = (0, 0, 0), \n",
    "                        mode = \"RGB\")     #创建一张黑色背景图\n",
    "\n",
    "img.draw_rectangle(10, 10, 60, 60, color=(255, 0, 0), \n",
    "                       thickness=-1)   #画一个从（10, 10）到（60, 60）的红色实心矩形\n",
    "\n",
    "img.draw_rectangle(80, 160, 160, 200, color=(0, 0, 255), \n",
    "                       thickness=1)   #画一个从（80, 160）到（160, 200）的蓝色矩形外框\n",
    "\n",
    "display.show(img)"
   ]
  },
  {
   "cell_type": "code",
   "execution_count": 1,
   "metadata": {},
   "outputs": [
    {
     "data": {
      "image/jpeg": "[encoded data removed]"
     },
     "metadata": {},
     "output_type": "display_data"
    },
    {
     "name": "stdout",
     "output_type": "stream",
     "text": [
      "[ rpyc-kernel ]( running at Fri Jul 21 15:58:54 2023 )\n"
     ]
    }
   ],
   "source": [
    "from maix import image, display\n",
    "\n",
    "img = image.new(size = (240, 240), color = (0, 0, 0), \n",
    "                        mode = \"RGB\")     #创建一张黑色背景图\n",
    "\n",
    "img.draw_circle(50, 50, 20, color=(0, 0, 255), \n",
    "                        thickness=1)   #画一个中心点在（50,50），半径为20的空心蓝圆\n",
    "\n",
    "img.draw_circle(150, 150, 20, color=(255, 0, 0), \n",
    "                        thickness=-1)  #画一个中心点在（150,150），半径为20的实心红圆\n",
    "\n",
    "display.show(img)"
   ]
  },
  {
   "cell_type": "code",
   "execution_count": 1,
   "metadata": {},
   "outputs": [
    {
     "name": "stdout",
     "output_type": "stream",
     "text": [
      "[ rpyc-kernel ]( running at Fri Jul 21 15:59:10 2023 )\n"
     ]
    }
   ],
   "source": [
    "from maix import display, image   #引入python模块包\n",
    "\n",
    "hello_img = image.new(size = (240, 240), color = (0, 0, 0), \n",
    "                              mode = \"RGB\")     #创建一张黑色背景图\n",
    "\n",
    "hello_img.draw_string(30, 115, \"hello world!\", scale = 1.0, color = (255, 255, 255), \n",
    "                              thickness = 1) #在黑色背景图上写下hello world\n",
    "\n",
    "display.show(hello_img)   #把这张图显示出来"
   ]
  },
  {
   "cell_type": "code",
   "execution_count": 1,
   "metadata": {},
   "outputs": [
    {
     "name": "stdout",
     "output_type": "stream",
     "text": [
      "[ rpyc-kernel ]( running at Fri Jul 21 15:03:23 2023 )\n"
     ]
    }
   ],
   "source": [
    "from maix import image, display\n",
    "\n",
    "img = image.new(color=(255, 255, 255))\n",
    "image.load_freetype(\"/home/res/sans.ttf\")\n",
    "s = \"二进制例程\"\n",
    "x, y = image.get_string_size(s, 3)\n",
    "img.draw_string(0, 120 - (y + 5), s, 3, (255, 0, 0)) # show left-button\n",
    "\n",
    "s = \"可执行文件示例\"\n",
    "x, y = image.get_string_size(s, 2)\n",
    "img.draw_string(240 - x, 0, s, 2, (0, 255, 0)) # show right-up # wait fix\n",
    "\n",
    "image.free_freetype()\n",
    "\n",
    "s = \"bin example\"\n",
    "x, y = image.get_string_size(s, 1)\n",
    "img.draw_string(0, 240 - (y + 5), s, 1, (0, 0, 255)) # show left-button\n",
    "\n",
    "display.show(img)\n"
   ]
  },
  {
   "cell_type": "code",
   "execution_count": 1,
   "metadata": {},
   "outputs": [
    {
     "data": {
      "image/jpeg": "[encoded data removed]"
     },
     "metadata": {},
     "output_type": "display_data"
    }
   ],
   "source": [
    "from maix import image, display\n",
    "img = image.new(size = (240, 240), color = (0, 0, 0), \n",
    "                        mode = \"RGB\")     #创建一张黑色背景图\n",
    "img.draw_ellipse(120, 40, 20, 50, 90, 0, 360, color=(0,255,0), \n",
    "                        thickness = 1)\n",
    "display.show(img)"
   ]
  },
  {
   "cell_type": "code",
   "execution_count": 1,
   "metadata": {},
   "outputs": [
    {
     "data": {
      "image/jpeg": "[encoded data removed]"
     },
     "metadata": {},
     "output_type": "display_data"
    },
    {
     "name": "stdout",
     "output_type": "stream",
     "text": [
      "[ rpyc-kernel ]( running at Fri Jul 21 15:59:17 2023 )\n"
     ]
    }
   ],
   "source": [
    "from maix import image, display\n",
    "\n",
    "img = image.new(color=(255, 0, 0))\n",
    "img.draw_string(100, 100, \"hello\", 2, color=(0, 0, 255))\n",
    "\n",
    "mk = img.crop(90, 90, 100, 50) # 截一张图出来, x, y, w, h\n",
    "imga = image.new(color=(0, 255, 0))\n",
    "imga.draw_image(mk, 10, 10)\n",
    "# imga.draw_image(imga) # py no-allow use self but libmaix support\n",
    "imga.draw_image(mk, 100, 100, alpha=0.5)\n",
    "display.show(imga)"
   ]
  },
  {
   "cell_type": "code",
   "execution_count": 1,
   "metadata": {},
   "outputs": [
    {
     "data": {
      "image/jpeg": "[encoded data removed]"
     },
     "metadata": {},
     "output_type": "display_data"
    },
    {
     "name": "stdout",
     "output_type": "stream",
     "text": [
      "[ rpyc-kernel ]( running at Fri Jul 21 15:59:20 2023 )\n"
     ]
    }
   ],
   "source": [
    "from maix import image, display\n",
    "\n",
    "img = image.new(color=(255, 0, 0))\n",
    "img.draw_string(100, 100, \"KL\", 2, color=(0, 0, 255))\n",
    "\n",
    "mk = img.crop(90, 90, 50, 50)\n",
    "\n",
    "imga = image.new(color=(0, 255, 0))\n",
    "\n",
    "imga.draw_image(mk, 10, 10) # 原图\n",
    "\n",
    "imga.draw_image(mk.rotate(-90), 70, 10) # 顺时针 90 旋转\n",
    "\n",
    "imga.draw_image(mk.flip(1), 130, 10) # 水平翻转 horizontal\n",
    "\n",
    "imga.draw_image(mk.resize(80, 50), 10, 80) # 缩放到 (80, 50)\n",
    "\n",
    "imga.draw_image(mk.flip(0), 100, 80) # 垂直翻转 vertical\n",
    "\n",
    "imga.draw_image(mk.rotate(-135, adjust=0), 10, 150) # 顺时针 135 旋转\n",
    "\n",
    "imga.draw_image(mk.rotate(+45, adjust=1), 100, 150) # 逆时针 45 旋转\n",
    "\n",
    "display.show(imga)"
   ]
  },
  {
   "cell_type": "code",
   "execution_count": 1,
   "metadata": {},
   "outputs": [
    {
     "name": "stdout",
     "output_type": "stream",
     "text": [
      "[ rpyc-kernel ]( running at Fri Jul 21 15:59:23 2023 )\n"
     ]
    },
    {
     "data": {
      "text/plain": [
       "_get_exception_class.<locals>.Derived: No module named 'cv2'\n",
       "\n",
       "========= Remote Traceback (1) =========\n",
       "Traceback (most recent call last):\n",
       "  File \"/usr/lib/python3.8/site-packages/rpyc/core/protocol.py\", line 324, in _dispatch_request\n",
       "  File \"/usr/lib/python3.8/site-packages/rpyc/core/protocol.py\", line 592, in _handle_call\n",
       "  File \"<string>\", line 9, in <module>\n",
       "ModuleNotFoundError: No module named 'cv2'\n",
       "\n"
      ]
     },
     "execution_count": 1,
     "metadata": {},
     "output_type": "execute_result"
    }
   ],
   "source": [
    "from maix import image, display\n",
    "\n",
    "img = image.new(size=(240, 240), mode=\"RGB\", color=(255, 255, 255))\n",
    "img.draw_line(0, 0, 240, 240)\n",
    "img.draw_rectangle(40, 120, 160, 200, color=(255, 0, 0), thickness=16) #\n",
    "img.draw_circle(120, 120, 20, color=(0, 255, 0))\n",
    "img.draw_string(40, 40, \"dalaoshu\", 2, color=(0, 0, 255))\n",
    "\n",
    "import cv2\n",
    "import numpy as np\n",
    "cv_img = cv2.imdecode(np.frombuffer(img.tobytes('jpg'), np.uint8), cv2.IMREAD_COLOR)\n",
    "\n",
    "cv_img = cv_img[ : , : , (2,1,0)]\n",
    "\n",
    "tmp = image.load(cv_img.tobytes(), cv_img.shape)\n",
    "\n",
    "tmp.save('tmp.jpg')\n",
    "\n",
    "img_encode = cv2.imencode('.jpg', cv_img)[1]\n",
    "\n",
    "tmp = image.open(img_encode.tobytes())\n",
    "\n",
    "tmp.save('tmp.jpg')"
   ]
  },
  {
   "cell_type": "code",
   "execution_count": 1,
   "metadata": {},
   "outputs": [
    {
     "data": {
      "image/jpeg": "[encoded data removed]"
     },
     "metadata": {},
     "output_type": "display_data"
    }
   ],
   "source": [
    "from maix import image, display\n",
    "\n",
    "img = image.new(size=(240, 240), mode=\"RGB\", color=(255, 255, 255))\n",
    "img.draw_line(0, 0, 240, 240)\n",
    "img.draw_rectangle(40, 120, 160, 200, color=(255, 0, 0), thickness=16) #\n",
    "img.draw_circle(120, 120, 20, color=(0, 255, 0))\n",
    "img.draw_string(40, 40, \"dalaoshu\", 2, color=(0, 0, 255))\n",
    "\n",
    "# 保存图片到 test.png 中\n",
    "img.save(\"test.png\")\n",
    "# 读取 test.png 中的图片\n",
    "tmp = image.open(\"test.png\")\n",
    "\n",
    "# 0.5.0 以后支持导出 jpg 、 bmp 、 png 、 默认 rgb 等格式的图像数据到 bytes 变量中，方便向外传输图像数据。\n",
    "img_bytes = tmp.resize(size=(160, 120)).tobytes('jpg')\n",
    "# >>> img_bytes = img.tobytes('jpg')\n",
    "# >>> img_bytes[:2]\n",
    "# b'\\xff\\xd8'\n",
    "# >>> img_bytes[-2:]\n",
    "# b'\\xff\\xd9'\n",
    "# >>>\n",
    "# >>> img_bytes = img.tobytes('bmp')\n",
    "# >>> img_bytes[:2]\n",
    "# b'BM'\n",
    "# >>> img_bytes = img.tobytes('rgb')\n",
    "# >>> img_bytes[:2]\n",
    "# b'\\x00\\x00'\n",
    "# >>> img_bytes = img.tobytes('png')\n",
    "# >>> img_bytes[:2]\n",
    "# b'\\x89P'\n",
    "# >>>\n",
    "\n",
    "# 0.5.2 以后 image.open 支持直接打开上述格式导出的 bytes 编码数据。\n",
    "tmp = image.open(img_bytes)\n",
    "print('tmp.png', tmp)\n",
    "\n",
    "tmp.save(\"tmp.png\")\n",
    "\n",
    "display.show(tmp)"
   ]
  },
  {
   "cell_type": "code",
   "execution_count": 1,
   "metadata": {},
   "outputs": [
    {
     "data": {
      "image/jpeg": "[encoded data removed]"
     },
     "metadata": {},
     "output_type": "display_data"
    },
    {
     "data": {
      "text/plain": [
       "\r\n",
       "Traceback (most recent call last):\r\n",
       "  File \"<string>\", line unknown, in <module>\r\n",
       "Remote.KeyboardInterrupt\r\n"
      ]
     },
     "execution_count": 1,
     "metadata": {},
     "output_type": "execute_result"
    }
   ],
   "source": [
    "from maix import image, display, camera\n",
    "blue = [(34, 100, -38, 3, -128, -28)]  # 0.5.0 以后蓝色的 lab 阈值，0.4.9 之前为 [(13, 11, -91, 54, 48, -28)]\n",
    "while True:\n",
    "    img = camera.capture()\n",
    "    blobs = img.find_blobs(blue, merge=True)    #在图片中查找lab阈值内的颜色色块 merge 合并小框。\n",
    "    if blobs:\n",
    "        for i in blobs:\n",
    "            img.draw_rectangle(i[\"x\"], i[\"y\"], i[\"x\"] + i[\"w\"], i[\"y\"] + i[\"h\"], \n",
    "                               color=(0, 0, 255), thickness=1) #将找到的颜色区域画出来\n",
    "    display.show(img)"
   ]
  },
  {
   "cell_type": "code",
   "execution_count": 1,
   "metadata": {},
   "outputs": [
    {
     "name": "stdout",
     "output_type": "stream",
     "text": [
      "[ rpyc-kernel ]( running at Fri Jul 21 16:01:06 2023 )\n",
      "<class 'rpyc.core.protocol.Number_recognition'>\n"
     ]
    }
   ],
   "source": [
    "\n",
    "class Number_recognition:\n",
    "    labels = [\"1\", \"2\", \"3\", \"4\", \"5\", \"6\", \"7\", \"8\"]\n",
    "    anchors = [2.44, 2.25, 5.03, 4.91, 3.5 , 3.53, 4.16, 3.94, 2.97, 2.84]\n",
    "    model = {\n",
    "        \"param\": \"/root/number_awnn.param\",\n",
    "        \"bin\": \"/root/number_awnn.bin\"\n",
    "    }\n",
    "    options = {\n",
    "        \"model_type\":  \"awnn\",\n",
    "        \"inputs\": {\n",
    "            \"input0\": (224, 224, 3)\n",
    "        },\n",
    "        \"outputs\": {\n",
    "            \"output0\": (7, 7, (1+4+len(labels))*5)\n",
    "        },\n",
    "        \"mean\": [127.5, 127.5, 127.5],\n",
    "        \"norm\": [0.0078125, 0.0078125, 0.0078125],\n",
    "    }\n",
    "    w = options[\"inputs\"][\"input0\"][1]\n",
    "    h = options[\"inputs\"][\"input0\"][0]\n",
    "    def __init__(self):\n",
    "        from maix import nn\n",
    "        from maix.nn import decoder\n",
    "        self.m = nn.load(self.model, opt=self.options)\n",
    "        self.yolo2_decoder = decoder.Yolo2(len(self.labels), self.anchors, net_in_size=(self.w, self.h), net_out_size=(7, 7))\n",
    "    def map_face(self, box):                           #将224*224空间的位置转换到240*240空间内\n",
    "        def tran(x):\n",
    "            return int(x/224*240)\n",
    "        box = list(map(tran, box))\n",
    "        return box\n",
    "print(Number_recognition)"
   ]
  },
  {
   "cell_type": "code",
   "execution_count": 1,
   "metadata": {},
   "outputs": [
    {
     "data": {
      "image/jpeg": "[encoded data removed]"
     },
     "metadata": {},
     "output_type": "display_data"
    },
    {
     "data": {
      "text/plain": [
       "\r\n",
       "Traceback (most recent call last):\r\n",
       "  File \"<string>\", line unknown, in <module>\r\n",
       "Remote.KeyboardInterrupt\r\n"
      ]
     },
     "execution_count": 1,
     "metadata": {},
     "output_type": "execute_result"
    }
   ],
   "source": [
    "from maix import camera, display, image\n",
    "number_recognition = Number_recognition()\n",
    "while True:\n",
    "    img = camera.capture()\n",
    "    AI_img = img.copy().resize(224, 224)\n",
    "    out = number_recognition.m.forward(AI_img.tobytes(), quantize=True, layout=\"hwc\")\n",
    "    boxes, probs = number_recognition.yolo2_decoder.run(out, nms=0.3, threshold=0.5, img_size=(240, 240))\n",
    "    for i, box in enumerate(boxes):\n",
    "        class_id = probs[i][0]\n",
    "        prob = probs[i][1][class_id]\n",
    "        disp_str = \"{}:{:.2f}%\".format(number_recognition.labels[class_id], prob*100)\n",
    "        font_wh = image.get_string_size(disp_str)\n",
    "        box = number_recognition.map_face(box)\n",
    "        img.draw_rectangle(box[0], box[1], box[0] + box[2], box[1] + box[3], color = (255, 0, 0), thickness=2)\n",
    "        img.draw_rectangle(box[0], box[1] - font_wh[1], box[0] + font_wh[0], box[1], color= (255, 0, 0))\n",
    "        img.draw_string(box[0], box[1] - font_wh[1], disp_str, color= (255, 0, 0))\n",
    "    display.show(img)"
   ]
  },
  {
   "cell_type": "code",
   "execution_count": 1,
   "metadata": {},
   "outputs": [
    {
     "data": {
      "image/jpeg": "[encoded data removed]"
     },
     "metadata": {},
     "output_type": "display_data"
    },
    {
     "data": {
      "text/plain": [
       "\r\n",
       "Traceback (most recent call last):\r\n",
       "  File \"<string>\", line unknown, in <module>\r\n",
       "Remote.KeyboardInterrupt\r\n"
      ]
     },
     "execution_count": 1,
     "metadata": {},
     "output_type": "execute_result"
    }
   ],
   "source": [
    "from maix import image, display, camera\n",
    "THRESHOLD = [(34, 100, -38, 3, -128, -28)]\n",
    "while True:\n",
    "    img = camera.capture().binary(THRESHOLD, invert=False, zero=False) # invert 取反阈值，zero 是否不填充阈值区域。\n",
    "    display.show(img)"
   ]
  },
  {
   "cell_type": "code",
   "execution_count": 1,
   "metadata": {},
   "outputs": [
    {
     "data": {
      "image/jpeg": "[encoded data removed]"
     },
     "metadata": {},
     "output_type": "display_data"
    },
    {
     "data": {
      "text/plain": [
       "\r\n",
       "Traceback (most recent call last):\r\n",
       "  File \"<string>\", line unknown, in <module>\r\n",
       "Remote.KeyboardInterrupt\r\n"
      ]
     },
     "execution_count": 1,
     "metadata": {},
     "output_type": "execute_result"
    }
   ],
   "source": [
    "from maix import camera, display, image\n",
    "while True:\n",
    "    img = camera.capture()\n",
    "    tmp = img.find_lines((0, 0, 240, 240), 2, 1, 1100, 50, 50)\n",
    "    for l in tmp:\n",
    "        img.draw_line(l[0], l[1], l[2], l[3], color = (0, 255, 0))\n",
    "    display.show(img)"
   ]
  },
  {
   "cell_type": "code",
   "execution_count": 1,
   "metadata": {},
   "outputs": [
    {
     "data": {
      "image/jpeg": "[encoded data removed]"
     },
     "metadata": {},
     "output_type": "display_data"
    },
    {
     "data": {
      "text/plain": [
       "\r\n",
       "Traceback (most recent call last):\r\n",
       "  File \"<string>\", line unknown, in <module>\r\n",
       "Remote.KeyboardInterrupt\r\n"
      ]
     },
     "execution_count": 1,
     "metadata": {},
     "output_type": "execute_result"
    }
   ],
   "source": [
    "from maix import image, display, camera\n",
    "import time\n",
    "\n",
    "while True:\n",
    "  img = camera.capture()\n",
    "  line = img.find_line()\n",
    "  img.draw_line(line[\"rect\"][0], line[\"rect\"][1], line[\"rect\"][2],\n",
    "                line[\"rect\"][3], color=(255, 255, 255), thickness=1)\n",
    "  img.draw_line(line[\"rect\"][2], line[\"rect\"][3], line[\"rect\"][4],\n",
    "                line[\"rect\"][5], color=(255, 255, 255), thickness=1)\n",
    "  img.draw_line(line[\"rect\"][4], line[\"rect\"][5], line[\"rect\"][6],\n",
    "                line[\"rect\"][7], color=(255, 255, 255), thickness=1)\n",
    "  img.draw_line(line[\"rect\"][6], line[\"rect\"][7], line[\"rect\"][0],\n",
    "                line[\"rect\"][1], color=(255, 255, 255), thickness=1)\n",
    "  img.draw_circle(line[\"cx\"], line[\"cy\"], 4,\n",
    "                  color=(255, 255, 255), thickness=1)\n",
    "  display.show(img)"
   ]
  },
  {
   "cell_type": "code",
   "execution_count": 1,
   "metadata": {},
   "outputs": [
    {
     "data": {
      "image/jpeg": "[encoded data removed]"
     },
     "metadata": {},
     "output_type": "display_data"
    },
    {
     "data": {
      "text/plain": [
       "\r\n",
       "Traceback (most recent call last):\r\n",
       "  File \"<string>\", line unknown, in <module>\r\n",
       "Remote.KeyboardInterrupt\r\n"
      ]
     },
     "execution_count": 1,
     "metadata": {},
     "output_type": "execute_result"
    }
   ],
   "source": [
    "from maix import image, display, camera\n",
    "import time\n",
    "\n",
    "while True:\n",
    "  img = camera.capture()\n",
    "  colors = img.get_blob_color((100, 100, 10, 10), 0, 0)\n",
    "  img.draw_rectangle(100, 100, 110, 110, \n",
    "                               color=(255, 0, 0), thickness=1) #将找到的颜色区域画出来\n",
    "  img.draw_rectangle(9, 9, 21, 21, \n",
    "                               color=(255, 255, 255), thickness=1) #将找到的颜色区域画出来\n",
    "  img.draw_rectangle(10, 10, 20, 20, \n",
    "                               color=(int(colors[0]), int(colors[1]), int(colors[2])), thickness=-1) #将找到的颜色区域画出来\n",
    "  display.show(img)"
   ]
  },
  {
   "cell_type": "code",
   "execution_count": 1,
   "metadata": {},
   "outputs": [
    {
     "data": {
      "image/jpeg": "[encoded data removed]"
     },
     "metadata": {},
     "output_type": "display_data"
    },
    {
     "name": "stdout",
     "output_type": "stream",
     "text": [
      " [8, 8, 5, 2, 4, 11, 6, 9]\n",
      "l Mean Median Mode STDev Min Max LQ UQ"
     ]
    },
    {
     "data": {
      "text/plain": [
       "\r\n",
       "Traceback (most recent call last):\r\n",
       "  File \"<string>\", line unknown, in <module>\r\n",
       "Remote.KeyboardInterrupt\r\n"
      ]
     },
     "execution_count": 1,
     "metadata": {},
     "output_type": "execute_result"
    }
   ],
   "source": [
    "from maix import image,display,camera\n",
    "ROI=(80,30,15,15)\n",
    "while True:\n",
    "    img = camera.capture()\n",
    "    tmp = img.get_statistics(roi=ROI)\n",
    "    display.show(img)\n",
    "\n",
    "    print(\"l Mean Median Mode STDev Min Max LQ UQ\", tmp[0:8])\n",
    "    print(\"a Mean Median Mode STDev Min Max LQ UQ\", tmp[8:16])\n",
    "    print(\"b Mean Median Mode STDev Min Max LQ UQ\", tmp[16:24])\n",
    "\n",
    "    # example data\n",
    "\n",
    "    # openmv\n",
    "    # \"l_mean\":42, \"l_median\":38, \"l_mode\":3, \"l_stdev\":27, \"l_min\":0, \"l_max\":100, \"l_lq\":19, \"l_uq\":65,\n",
    "    # \"a_mean\":3, \"a_median\":1, \"a_mode\":0, \"a_stdev\":22, \"a_min\":-59, \"a_max\":81, \"a_lq\":-7, \"a_uq\":18,\n",
    "    # \"b_mean\":5, \"b_median\":2, \"b_mode\":2, \"b_stdev\":27, \"b_min\":-88, \"b_max\":76, \"b_lq\":-12, \"b_uq\":25\n",
    "\n",
    "    # maixpy3\n",
    "    # 42, 37, 3, 27, 0, 98, 18, 66,\n",
    "    # 2, -1, -1, 22, -72, 83, -8, 15,\n",
    "    # 7, 1, -1, 26, -73, 76, -11, 25\n"
   ]
  },
  {
   "cell_type": "code",
   "execution_count": 1,
   "metadata": {},
   "outputs": [
    {
     "data": {
      "image/jpeg": "[encoded data removed]"
     },
     "metadata": {},
     "output_type": "display_data"
    },
    {
     "data": {
      "text/plain": [
       "\r\n",
       "Traceback (most recent call last):\r\n",
       "  File \"<string>\", line unknown, in <module>\r\n",
       "Remote.KeyboardInterrupt\r\n"
      ]
     },
     "execution_count": 1,
     "metadata": {},
     "output_type": "execute_result"
    }
   ],
   "source": [
    "#!/usr/bin/python3\n",
    "\n",
    "from maix import image, display, camera, gpio\n",
    "\n",
    "camera.config(size=(240, 240))\n",
    "\n",
    "import serial, time\n",
    "\n",
    "ser = serial.Serial(\"/dev/ttyS1\", 115200, timeout=0.2)  # 连接串口\n",
    "\n",
    "tmp = ser.readline()\n",
    "print('serial test start ...')\n",
    "\n",
    "ser.write(b\" \\r\\n\")\n",
    "time.sleep(1)\n",
    "ser.write(b\"{V831:Ready!}\\n\")\n",
    "\n",
    "set_LAB = [[(0, 46, 22, 61, -45, 74)],  # red\n",
    "           [(3, 35, 8, 127, -128, -25)]]  # blue\n",
    "# LAB阈值的初始化格式:[L_MIN,A_MIN,B_MIN,L_MAX,A_MAX,B_MAX]\n",
    "\n",
    "flag = '1'\n",
    "now_time = time.time()\n",
    "\n",
    "ser.write(b\"ok\\n\")\n",
    "\n",
    "while True:\n",
    "    img = camera.capture()\n",
    "    for j in range(2):\n",
    "        blobs = img.find_blobs(set_LAB[j])  # 在图片中查找lab阈值内的颜色色块\n",
    "        if blobs:\n",
    "            for i in blobs:\n",
    "                size = i[\"w\"] * i[\"h\"]  # 最大是240 *240也就是57600\n",
    "                if size > 2000:\n",
    "                    x_start = i[\"x\"]\n",
    "                    x_end = i[\"x\"] + i[\"w\"]\n",
    "                    x_center = int((x_start + x_end) / 2)  # 中心坐标\n",
    "                    y_start = i[\"y\"]\n",
    "                    y_end = i[\"y\"] + i[\"h\"]\n",
    "                    y_center = int((y_start + y_end) / 2)\n",
    "                    m = max((x_center - i[\"w\"] * 0.3), 0)\n",
    "                    n = max((y_center - i[\"h\"] * 0.3), 0)\n",
    "                    m = min((x_center - i[\"w\"] * 0.3), 240)\n",
    "                    n = min((y_center - i[\"h\"] * 0.3), 240)\n",
    "                    mk = [int(m), int(n), 20, 20]\n",
    "                    if (mk[0] + 20) < 220 and (mk[1] + 20) < 220:\n",
    "                        git_color = img.get_blob_color(mk, 0, 0)\n",
    "                        img.draw_rectangle(9, 9, 21, 21, color=(255, 255, 255), thickness=1)  # 左上角颜色区域画出来\n",
    "                        color = (int(git_color[0]), int(git_color[1]), int(git_color[2]))\n",
    "                        img.draw_rectangle(10, 10, 20, 20, color, thickness=-1)  # 将颜色填充到左上角\n",
    "                        img.draw_circle(x_center, y_center, int(i[\"h\"] / 2 + 8), color,\n",
    "                                        thickness=3)  # 画一个中心点在（50,50），半径为20的空心 圆\n",
    "                        if (j == 0):\n",
    "                            string = 'Red'\n",
    "                        elif j == 1:\n",
    "                            string = 'Blue'\n",
    "                        str_size = image.get_string_size(string)\n",
    "                        img.draw_string(x_center - int(str_size[0] / 2) - 5, y_start - 35, string, scale=1.5,\n",
    "                                        color=(int(git_color[0]), int(git_color[1]), int(git_color[2])), thickness=2)\n",
    "                        if flag == '1':\n",
    "                            flag = '0'\n",
    "                            now_time = time.time()  # time.asctime()\n",
    "\n",
    "    display.show(img)\n",
    "    time_t = time.time() - now_time\n",
    "    if (time_t > 0.03):\n",
    "        if flag == '0':\n",
    "            tep = \"{V831:Space_x->\" + str(x_center - 120) + \"}\"  # 先获得数据\n",
    "            ser.write(tep.encode(\"utf-8\"))  # 变成串口能发送的格式发出去\n",
    "            flag = 'x'  # 先发X再发Y，需要等等不然32会反映不过来，但又不能阻塞\n",
    "\n",
    "        elif flag == 'x':\n",
    "            flag = '1'\n",
    "            tep = \"{V831:Space_y->\" + str(y_center - 120) + \"}\"  # 先获得数据\n",
    "            ser.write(tep.encode(\"utf-8\"))  # 变成串口能发送的格式发出去\n"
   ]
  },
  {
   "cell_type": "code",
   "execution_count": null,
   "metadata": {},
   "outputs": [
    {
     "data": {
      "image/jpeg": "[encoded data removed]"
     },
     "metadata": {},
     "output_type": "display_data"
    }
   ],
   "source": [
    "#!/usr/bin/python3\n",
    "from maix import display, camera \n",
    "\n",
    "f_x = (6 / 5.76) * 240 # 镜头的焦距是6MM，感光cmos的长是5.76mm，240像素是屏幕的长\n",
    "f_y = (6 / 3.24) * 240 # 镜头的焦距是6MM，感光cmos的宽是3.24mm，240像素是屏幕的宽\n",
    "\n",
    "c_x = 240 * 0.5  # 屏幕分辨率的一半\n",
    "c_y = 240 * 0.5  # 屏幕分辨率的一半\n",
    "\n",
    "while True:\n",
    "    t = camera.capture()\n",
    "    mks = t.find_apriltags(families = 16,fx = f_x,fy = f_y,cx = c_x,cy = c_y)\n",
    "    for mk in mks:\n",
    "      x_tran = mk['x_translation']\n",
    "      y_tran = mk['y_translation']\n",
    "      z_tran = mk['z_translation']\n",
    "      #家族信息\n",
    "      fam = mk['family']\n",
    "      #外框数据\n",
    "      x, y, w, h, id  =  mk['x'], mk['y'], mk['w'], mk['h'], mk['id']\n",
    "      #内框数据\n",
    "      x1,y1 = mk['corners'][0]   #访问字典的列表\n",
    "      x2,y2 = mk['corners'][1]\n",
    "      x3,y3 = mk['corners'][2]\n",
    "      x4,y4 = mk['corners'][3]\n",
    "      z1,z2 = mk['centroid']\n",
    "      #虚拟距离\n",
    "      length = (x_tran*x_tran + y_tran*y_tran + z_tran*z_tran)**0.5\n",
    "\n",
    "      #画外框\n",
    "      t.draw_rectangle(x, y, x + w, y + h, color=(0, 0, 255), thickness = 2) \n",
    "      #打印ID\n",
    "      t.draw_string(int(x + w*0.15) , int(y + h*0.15) , str(id), scale = 4.0, color = (255, 0, 0), thickness = 3)  \n",
    "      #画内框\n",
    "      t.draw_line(x1, y1, x2, y2, color = (0, 255, 0), thickness = 3)  \n",
    "      t.draw_line(x2, y2, x3, y3, color = (0, 255, 0), thickness = 3)  \n",
    "      t.draw_line(x3, y3, x4, y4, color = (0, 255, 0), thickness = 3)  \n",
    "      t.draw_line(x4, y4, x1, y1, color = (0, 255, 0), thickness = 3)  \n",
    "      \n",
    "      if(fam == 16):\n",
    "        t.draw_string(x, y-20, \"TAG36H11\", scale = 1.0, color = (255, 0, 0), thickness = 2)\n",
    "      \n",
    "      t.draw_string(x, y+h+15, str(int(length * 3.0649 - 2))+\" cm\", scale = 1.0, color = (255, 0, 0), thickness = 2)  \n",
    "\n",
    "    display.show(t)"
   ]
  },
  {
   "cell_type": "code",
   "execution_count": null,
   "metadata": {},
   "outputs": [],
   "source": [
    "from maix import display, camera \n",
    "import math\n",
    "\n",
    "f_x = (6 / 5.76) * 240 \n",
    "f_y = (6 / 3.24) * 240 \n",
    "\n",
    "c_x = 240 * 0.5 \n",
    "c_y = 240 * 0.5 \n",
    "\n",
    "while True:\n",
    "    t = camera.capture()\n",
    "    mks = t.find_apriltags(families = 16,fx = f_x,fy = f_y,cx = c_x,cy = c_y)\n",
    "    for mk in mks:\n",
    "\n",
    "      #内框数据\n",
    "      x1,y1 = mk['corners'][0]   #访问字典的列表\n",
    "      x2,y2 = mk['corners'][1]\n",
    "      x3,y3 = mk['corners'][2]\n",
    "      x4,y4 = mk['corners'][3]\n",
    "      \n",
    "      x_rol = mk['x_rotation']\n",
    "      y_rol = mk['y_rotation']\n",
    "      z_rol = mk['z_rotation']\n",
    "      #画内框\n",
    "      t.draw_line(x1, y1, x2, y2, color = (0, 255, 0), thickness = 3)  \n",
    "      t.draw_line(x2, y2, x3, y3, color = (0, 255, 0), thickness = 3)  \n",
    "      t.draw_line(x3, y3, x4, y4, color = (0, 255, 0), thickness = 3)  \n",
    "      t.draw_line(x4, y4, x1, y1, color = (0, 255, 0), thickness = 3)  \n",
    "    \n",
    "      \n",
    "      t.draw_string(x4, y4, \"xR: \"+str(int(180*x_rol/3.14)), scale = 1.0, color = (255, 0, 0), thickness = 2)    #90° ~ 270°  正对着是180°。上下\n",
    "      t.draw_string(x4, y4 + 15, \"yR: \"+str(int(180*y_rol/3.14)), scale = 1.0, color = (255, 0, 0), thickness = 2)   #0° ~ 90°，270° ~ 360°   正对着是0°。 左右\n",
    "      t.draw_string(x4, y4 + 30, \"zR: \"+str(int(180*z_rol/3.14)), scale = 1.0, color = (255, 0, 0), thickness = 2)   #0° ~ 360°   正对着是0°。 顺时针旋转增加\n",
    "      \n",
    "      t.draw_line(x4, y4, int(x4 - 40 * math.sin(z_rol)), int(y4 + 40 - 40 * math.cos(z_rol) + 40 * math.cos(x_rol)), color = (255, 0, 0), thickness = 3)   \n",
    "      t.draw_line(x4, y4, int(x4 - 40 + 40 * math.cos(z_rol) + 40 * math.cos(y_rol)), int(y4 - 40 * math.sin(z_rol)), color = (0, 0, 0), thickness = 3) \n",
    "      t.draw_line(x4, y4, int(x4  + 40 * math.sin(y_rol)),int(y4 - 40 * math.sin(x_rol)), color = (0, 0, 255), thickness = 3) \n",
    "    display.show(t)"
   ]
  },
  {
   "cell_type": "code",
   "execution_count": 1,
   "metadata": {},
   "outputs": [
    {
     "name": "stdout",
     "output_type": "stream",
     "text": [
      "[ rpyc-kernel ]( running at Fri Jul 21 15:25:43 2023 )\n"
     ]
    },
    {
     "data": {
      "text/plain": [
       "\r\n",
       "Traceback (most recent call last):\r\n",
       "  File \"<string>\", line unknown, in <module>\r\n",
       "Remote.KeyboardInterrupt\r\n"
      ]
     },
     "execution_count": 1,
     "metadata": {},
     "output_type": "execute_result"
    }
   ],
   "source": [
    "#!/usr/bin/python3\n",
    "from maix import display, camera \n",
    "\n",
    "while True:\n",
    "    t = camera.capture()\n",
    "    mks = t.find_qrcodes()\n",
    "    for mk in mks:\n",
    "      #外框数据\n",
    "      X = mk['x']\n",
    "      Y = mk['y']\n",
    "      W = mk['w']\n",
    "      H = mk['h']\n",
    "      \n",
    "      #二维码信息\n",
    "      string = mk['payload']\n",
    "\n",
    "      #内框数据\n",
    "      x1,y1 = mk['corners'][0]   #访问字典的列表\n",
    "      x2,y2 = mk['corners'][1]\n",
    "      x3,y3 = mk['corners'][2]\n",
    "      x4,y4 = mk['corners'][3]\n",
    "      \n",
    "      #画外框\n",
    "      t.draw_rectangle(X, Y, X + W, Y + H, color=(0, 0, 255), thickness = 2) \n",
    "      #打印信息\n",
    "      t.draw_string(int(X) , int(Y - 35) , str(string), scale = 2.0, color = (255, 0, 0), thickness = 2)  #内框ID\n",
    "      #画内框\n",
    "      t.draw_line(x1, y1, x2, y2, color = (0, 255, 0), thickness = 3)  \n",
    "      t.draw_line(x2, y2, x3, y3, color = (0, 255, 0), thickness = 3)  \n",
    "      t.draw_line(x3, y3, x4, y4, color = (0, 255, 0), thickness = 3)  \n",
    "      t.draw_line(x4, y4, x1, y1, color = (0, 255, 0), thickness = 3)  \n",
    "\n",
    "    display.show(t)"
   ]
  },
  {
   "cell_type": "code",
   "execution_count": 1,
   "metadata": {},
   "outputs": [
    {
     "name": "stdout",
     "output_type": "stream",
     "text": [
      "[ rpyc-kernel ]( running at Fri Jul 21 15:29:27 2023 )\n"
     ]
    },
    {
     "data": {
      "text/plain": [
       "\r\n",
       "Traceback (most recent call last):\r\n",
       "  File \"<string>\", line unknown, in <module>\r\n",
       "Remote.KeyboardInterrupt\r\n"
      ]
     },
     "execution_count": 1,
     "metadata": {},
     "output_type": "execute_result"
    }
   ],
   "source": [
    "#!/usr/bin/python3\n",
    "from maix import display, camera \n",
    "\n",
    "while True:\n",
    "    t = camera.capture()\n",
    "    mks = t.find_barcodes()\n",
    "    for mk in mks:\n",
    "      \n",
    "      #二维码信息\n",
    "      string = mk['payload']\n",
    "      TYPE = mk['type']\n",
    "      \n",
    "      #内框数据\n",
    "      x1,y1 = mk['corners'][0]   #访问字典的列表\n",
    "      x2,y2 = mk['corners'][1]\n",
    "      x3,y3 = mk['corners'][2]\n",
    "      x4,y4 = mk['corners'][3]\n",
    "\n",
    "      #画内框\n",
    "      t.draw_line(x1, y1, x2, y2, color = (0, 255, 0), thickness = 3)  \n",
    "      t.draw_line(x2, y2, x3, y3, color = (0, 255, 0), thickness = 3)  \n",
    "      t.draw_line(x3, y3, x4, y4, color = (0, 255, 0), thickness = 3)  \n",
    "      t.draw_line(x4, y4, x1, y1, color = (0, 255, 0), thickness = 3)  \n",
    "      \n",
    "      #打印信息\n",
    "      t.draw_string(int(x1) , int(y1 - 35) , str(string), scale = 1.0, color = (255, 0, 0), thickness = 2)  \n",
    "      \n",
    "      t.draw_string(int(x1) , int(y1 + 35) , str(TYPE), scale = 1.0, color = (255, 0, 0), thickness = 2)  \n",
    "\n",
    "    display.show(t)\n",
    "    "
   ]
  },
  {
   "cell_type": "code",
   "execution_count": 1,
   "metadata": {},
   "outputs": [
    {
     "name": "stdout",
     "output_type": "stream",
     "text": [
      "[ rpyc-kernel ]( running at Fri Jul 21 15:33:42 2023 )\n"
     ]
    },
    {
     "data": {
      "text/plain": [
       "\r\n",
       "Traceback (most recent call last):\r\n",
       "  File \"<string>\", line unknown, in <module>\r\n",
       "Remote.KeyboardInterrupt\r\n"
      ]
     },
     "execution_count": 1,
     "metadata": {},
     "output_type": "execute_result"
    }
   ],
   "source": [
    "from maix import camera, display, image\n",
    "while True:\n",
    "    display.show(camera.capture().Canny())"
   ]
  },
  {
   "cell_type": "code",
   "execution_count": 1,
   "metadata": {},
   "outputs": [
    {
     "name": "stdout",
     "output_type": "stream",
     "text": [
      "[ rpyc-kernel ]( running at Fri Jul 21 15:34:53 2023 )\n"
     ]
    }
   ],
   "source": [
    "from maix import image, display, camera\n",
    "\n",
    "tmp = image.open(\"/root/template.png\")\n",
    "\n",
    "tmp = camera.capture()\n",
    "display.show(tmp)"
   ]
  },
  {
   "cell_type": "code",
   "execution_count": 1,
   "metadata": {},
   "outputs": [
    {
     "name": "stdout",
     "output_type": "stream",
     "text": [
      "[ rpyc-kernel ]( running at Fri Jul 21 15:34:56 2023 )\n"
     ]
    },
    {
     "data": {
      "text/plain": [
       "\r\n",
       "Traceback (most recent call last):\r\n",
       "  File \"<string>\", line unknown, in <module>\r\n",
       "Remote.KeyboardInterrupt\r\n"
      ]
     },
     "execution_count": 1,
     "metadata": {},
     "output_type": "execute_result"
    }
   ],
   "source": [
    "from maix import image, display, camera\n",
    "\n",
    "tmp = image.open(\"/root/template.png\")\n",
    "\n",
    "while True:\n",
    "    img = camera.capture()\n",
    "    res = img.find_template(tmp, 0.5, step=8, search=0)\n",
    "    if len(res):\n",
    "        img.draw_rectangle(res[\"x\"], res[\"y\"], res[\"x\"] + res[\"w\"], res[\"y\"] + res[\"h\"], color=(0, 0, 255), thickness=1)\n",
    "        img.draw_string(res[\"x\"], res[\"y\"], str(res[\"thresh\"]))\n",
    "    display.show(img)"
   ]
  },
  {
   "cell_type": "code",
   "execution_count": 1,
   "metadata": {},
   "outputs": [
    {
     "name": "stdout",
     "output_type": "stream",
     "text": [
      "[ rpyc-kernel ]( running at Fri Jul 21 15:38:11 2023 )\n"
     ]
    },
    {
     "data": {
      "text/plain": [
       "_get_exception_class.<locals>.Derived: module 'maix.image' has no attribute 'orb'\n",
       "\n",
       "========= Remote Traceback (1) =========\n",
       "Traceback (most recent call last):\n",
       "  File \"/usr/lib/python3.8/site-packages/rpyc/core/protocol.py\", line 324, in _dispatch_request\n",
       "  File \"/usr/lib/python3.8/site-packages/rpyc/core/protocol.py\", line 592, in _handle_call\n",
       "  File \"<string>\", line 3, in <module>\n",
       "AttributeError: module 'maix.image' has no attribute 'orb'\n",
       "\n"
      ]
     },
     "execution_count": 1,
     "metadata": {},
     "output_type": "execute_result"
    }
   ],
   "source": [
    "from maix import *\n",
    "\n",
    "orb = image.orb()\n",
    "print(orb)\n",
    "\n",
    "# readt a img\n",
    "src = None\n",
    "for i in range(5):\n",
    "    src = camera.capture()\n",
    "    display.show(src)\n",
    "\n",
    "tmp = None\n",
    "# flag a img\n",
    "img = camera.capture()\n",
    "res = orb.match(src, img, limit=50)\n",
    "if len(res):\n",
    "    for point in res['points']:\n",
    "        # print(point)\n",
    "        img.draw_circle(point[0], point[1], 2, color=(0, 255, 0), thickness=1)\n",
    "    tmp = img.copy().resize(64, 64)\n",
    "\n",
    "while True:\n",
    "    img = camera.capture()\n",
    "    res = orb.match(src, img, limit=50)\n",
    "    # print(res['x0'], res['y0'], res['x1'], res['y1'])\n",
    "    if len(res):\n",
    "        x, y = res['center']\n",
    "        r = (res['size'][0] + res['size'][1]) // 4\n",
    "#         print(x, y, res['size'], res['angle'])\n",
    "        img.draw_circle(x, y, r, color=(255, 0, 0), thickness=3)\n",
    "        for point in res['points']:\n",
    "            # print(point)\n",
    "            img.draw_circle(point[0], point[1], 4, color=(0, 255, 0), thickness=1)\n",
    "        if len(res['points']):\n",
    "            img.draw_string(0, 0, \"keypoints %d\" % len(res['points']))\n",
    "    if tmp:\n",
    "        img.draw_image(tmp)\n",
    "    display.show(img)\n",
    "#AttributeError: module 'maix.image' has no attribute 'orb'"
   ]
  },
  {
   "cell_type": "markdown",
   "metadata": {},
   "source": [
    "# 边缘检测\n",
    "## 3.1. 部署到 MaixII-Dock 上\n",
    "在 MaixHub 上获取模型文件和运行源码（最新 0.4.7 版本的系统内置了模型文件 /home/model/sobel_int8.*）"
   ]
  },
  {
   "cell_type": "code",
   "execution_count": 1,
   "metadata": {},
   "outputs": [
    {
     "name": "stdout",
     "output_type": "stream",
     "text": [
      "[ rpyc-kernel ]( running at Fri Jul 21 16:51:31 2023 )\n",
      "<class 'rpyc.core.protocol.Edge'>\n"
     ]
    }
   ],
   "source": [
    "\n",
    "class Edge:\n",
    "    model = {\n",
    "        \"param\": \"/home/model/sobel_int8.param\",\n",
    "        \"bin\": \"/home/model/sobel_int8.bin\"\n",
    "    }\n",
    "    input_size = (224, 224, 3)\n",
    "    output_size = (222, 222, 3)\n",
    "    options = {\n",
    "        \"model_type\":  \"awnn\",\n",
    "        \"inputs\": {\n",
    "            \"input0\": input_size\n",
    "        },\n",
    "        \"outputs\": {\n",
    "            \"output0\": output_size\n",
    "        },\n",
    "        \"mean\": [127.5, 127.5, 127.5],\n",
    "        \"norm\": [0.0078125, 0.0078125, 0.0078125],\n",
    "    }\n",
    "    def __init__(self):\n",
    "        from maix import nn\n",
    "        print(\"-- load model:\", self.model)\n",
    "        self.model = nn.load(self.model, opt=self.options)\n",
    "        print(\"-- load ok\")\n",
    "    def __del__(self):\n",
    "        del self.model\n",
    "print(Edge)\n"
   ]
  },
  {
   "cell_type": "markdown",
   "metadata": {},
   "source": [
    "## 3.2. 部署到 MaixSense 上\n",
    "0.4.8 后系统镜像已经内置了模型文件（/home/model/aipu_sobel.bin）"
   ]
  },
  {
   "cell_type": "code",
   "execution_count": 1,
   "metadata": {},
   "outputs": [
    {
     "name": "stdout",
     "output_type": "stream",
     "text": [
      "[ rpyc-kernel ]( running at Fri Jul 21 16:51:34 2023 )\n",
      "<class 'rpyc.core.protocol.Edge'>\n"
     ]
    }
   ],
   "source": [
    "\n",
    "class Edge:\n",
    "    path = {\n",
    "        \"bin\": \"/home/model/aipu_sobel.bin\"\n",
    "    }\n",
    "    input_size = (224,224,3)\n",
    "    output_size = (224,224,3)\n",
    "    options = {\n",
    "        \"model_type\":  \"aipu\",\n",
    "        \"inputs\": {\n",
    "            \"input0\": input_size\n",
    "        },\n",
    "        \"outputs\": {\n",
    "            \"output0\": output_size\n",
    "        },\n",
    "        \"mean\": [127.5, 127.5, 127.5],\n",
    "        \"norm\": [0.0078125, 0.0078125, 0.0078125],\n",
    "        \"scale\":[0.15196067], # R329 有此选项，V831没有这个选项\n",
    "    }\n",
    "    def __init__(self) -> None:\n",
    "        from maix import nn\n",
    "        print(\" - - load model :\",self.path)\n",
    "        self.model = nn.load(self.path , opt = self.options)\n",
    "        print(\"- -load ok\")\n",
    "    def __del__(self):\n",
    "        del self.model\n",
    "print(Edge)\n"
   ]
  },
  {
   "cell_type": "markdown",
   "metadata": {},
   "source": [
    "## 3.3. 开始进行边缘检测"
   ]
  },
  {
   "cell_type": "code",
   "execution_count": 1,
   "metadata": {},
   "outputs": [
    {
     "name": "stdout",
     "output_type": "stream",
     "text": [
      "[ rpyc-kernel ]( running at Fri Jul 21 16:51:35 2023 )\n",
      " - - load model : {'bin': '/home/model/aipu_sobel.bin'}\n"
     ]
    },
    {
     "data": {
      "text/plain": [
       "\r\n",
       "Traceback (most recent call last):\r\n",
       "  File \"<string>\", line unknown, in <module>\r\n",
       "Remote.KeyboardInterrupt\r\n"
      ]
     },
     "execution_count": 1,
     "metadata": {},
     "output_type": "execute_result"
    }
   ],
   "source": [
    "from maix import camera, display\n",
    "import numpy as np\n",
    "m = Edge()\n",
    "while True:\n",
    "    img = camera.capture().resize(224,224)\n",
    "    out = m.model.forward(img, quantize=True, layout=\"hwc\")\n",
    "    out = out.astype(np.float32).reshape(m.output_size)\n",
    "    out = (np.ndarray.__abs__(out) * 255 / out.max()).astype(np.uint8)\n",
    "    data = out.tobytes()\n",
    "    img2 = img.load(data,(222, 222), mode=\"RGB\")\n",
    "    display.show(img2)"
   ]
  },
  {
   "cell_type": "markdown",
   "metadata": {},
   "source": [
    "# 分类识别"
   ]
  },
  {
   "cell_type": "code",
   "execution_count": 1,
   "metadata": {},
   "outputs": [
    {
     "name": "stdout",
     "output_type": "stream",
     "text": [
      "[ rpyc-kernel ]( running at Fri Jul 21 16:52:08 2023 )\n",
      "<class 'rpyc.core.protocol.Resnet'>\n"
     ]
    }
   ],
   "source": [
    "\n",
    "class Resnet:\n",
    "    m = {\n",
    "        \"param\": \"/home/model/resnet18_1000_awnn.param\",\n",
    "        \"bin\": \"/home/model/resnet18_1000_awnn.bin\"\n",
    "    }\n",
    "    options = {\n",
    "        \"model_type\":  \"awnn\",\n",
    "        \"inputs\": {\n",
    "            \"input0\": (224, 224, 3)\n",
    "        },\n",
    "        \"outputs\": {\n",
    "            \"output0\": (1, 1, 1000)\n",
    "        },\n",
    "        \"first_layer_conv_no_pad\": False,\n",
    "        \"mean\": [127.5, 127.5, 127.5],\n",
    "        \"norm\": [0.00784313725490196, 0.00784313725490196, 0.00784313725490196],\n",
    "    }\n",
    "    def __init__(self):\n",
    "        from maix import nn\n",
    "        self.model = nn.load(self.m, opt=self.options)\n",
    "    def __del__(self):\n",
    "        del self.model\n",
    "print(Resnet)\n"
   ]
  },
  {
   "cell_type": "code",
   "execution_count": 1,
   "metadata": {},
   "outputs": [
    {
     "name": "stdout",
     "output_type": "stream",
     "text": [
      "[ rpyc-kernel ]( running at Fri Jul 21 16:52:11 2023 )\n",
      "<class 'rpyc.core.protocol.Resnet'>\n"
     ]
    }
   ],
   "source": [
    "\n",
    "class Resnet:\n",
    "    m = {\n",
    "        \"bin\": \"/home/model/aipu_resnet50.bin\"\n",
    "    }\n",
    "    options = {\n",
    "        \"model_type\":  \"aipu\",\n",
    "        \"inputs\": {\n",
    "            \"input0\": (224, 224, 3)\n",
    "        },\n",
    "        \"outputs\": {\n",
    "            \"output0\": (1, 1, 1000)\n",
    "        },\n",
    "        \"mean\": [127.5, 127.5, 127.5],\n",
    "        \"norm\": [0.0176, 0.0176, 0.0176],\n",
    "        \"scale\":[7.539542],\n",
    "    }\n",
    "    def __init__(self):\n",
    "        from maix import nn\n",
    "        self.model = nn.load(self.m, opt=self.options)\n",
    "    def __del__(self):\n",
    "        del self.model\n",
    "print(Resnet)\n"
   ]
  },
  {
   "cell_type": "code",
   "execution_count": 1,
   "metadata": {},
   "outputs": [
    {
     "name": "stdout",
     "output_type": "stream",
     "text": [
      "[ rpyc-kernel ]( running at Fri Jul 21 16:52:12 2023 )\n",
      "[camera] config input size(240, 240)\n"
     ]
    },
    {
     "data": {
      "text/plain": [
       "\r\n",
       "Traceback (most recent call last):\r\n",
       "  File \"<string>\", line unknown, in <module>\r\n",
       "Remote.KeyboardInterrupt\r\n"
      ]
     },
     "execution_count": 1,
     "metadata": {},
     "output_type": "execute_result"
    }
   ],
   "source": [
    "import sys \n",
    "sys.path.append(\"/home/res/\") \n",
    "from classes_label import labels \n",
    "from maix import camera, nn, display\n",
    "resnet = Resnet()\n",
    "print(resnet.model)\n",
    "while True:\n",
    "    img = camera.capture().resize(224, 224)\n",
    "    out = resnet.model.forward(img, quantize=True)\n",
    "    msg = \"{:.2f}: {}\".format(out.max(), labels[out.argmax()])\n",
    "    img.draw_string(0, 0, str(msg), 1, (255, 0, 0), 1)\n",
    "    display.show(img)\n"
   ]
  },
  {
   "cell_type": "markdown",
   "metadata": {},
   "source": [
    "# 物品检测"
   ]
  },
  {
   "cell_type": "code",
   "execution_count": 1,
   "metadata": {},
   "outputs": [
    {
     "name": "stdout",
     "output_type": "stream",
     "text": [
      "[ rpyc-kernel ]( running at Fri Jul 21 16:50:03 2023 )\n",
      "<class 'rpyc.core.protocol.Yolo'>\n"
     ]
    }
   ],
   "source": [
    "\n",
    "class Yolo:\n",
    "    labels = [\"person\"]\n",
    "    anchors = [1.19, 1.98, 2.79, 4.59, 4.53, 8.92, 8.06, 5.29, 10.32, 10.65]\n",
    "    m = {\n",
    "        \"param\": \"/home/model/face/yolo2_face_awnn.param\",\n",
    "        \"bin\": \"/home/model/face/yolo2_face_awnn.bin\"\n",
    "    }\n",
    "    options = {\n",
    "        \"model_type\":  \"awnn\",\n",
    "        \"inputs\": {\n",
    "            \"input0\": (224, 224, 3)\n",
    "        },\n",
    "        \"outputs\": {\n",
    "            \"output0\": (7, 7, (1+4+len(labels))*5)\n",
    "        },\n",
    "        \"mean\": [127.5, 127.5, 127.5],\n",
    "        \"norm\": [0.0078125, 0.0078125, 0.0078125],\n",
    "    }\n",
    "    def __init__(self):\n",
    "        from maix import nn\n",
    "        from maix.nn import decoder\n",
    "        self.model = nn.load(self.m, opt=self.options)\n",
    "        self.decoder = decoder.Yolo2(len(self.labels), self.anchors, net_in_size=(224, 224), net_out_size=(7, 7))\n",
    "    def __del__(self):\n",
    "        del self.model\n",
    "        del self.decoder\n",
    "print(Yolo)\n"
   ]
  },
  {
   "cell_type": "code",
   "execution_count": 1,
   "metadata": {},
   "outputs": [
    {
     "data": {
      "image/jpeg": "[encoded data removed]"
     },
     "metadata": {},
     "output_type": "display_data"
    },
    {
     "data": {
      "text/plain": [
       "\r\n",
       "Traceback (most recent call last):\r\n",
       "  File \"<string>\", line unknown, in <module>\r\n",
       "Remote.KeyboardInterrupt\r\n"
      ]
     },
     "execution_count": 1,
     "metadata": {},
     "output_type": "execute_result"
    }
   ],
   "source": [
    "from maix import camera, display\n",
    "yolo = Yolo()\n",
    "print(yolo)\n",
    "while True:\n",
    "    img = camera.capture().resize(224, 224)\n",
    "    out = yolo.model.forward(img, quantize=True, layout=\"hwc\")\n",
    "    boxes, probs = yolo.decoder.run(out, nms=0.3, threshold=0.5, img_size=(224, 224))\n",
    "    if len(boxes):\n",
    "        for i, box in enumerate(boxes):\n",
    "            # class_id = probs[i][0]\n",
    "            img.draw_rectangle(box[0], box[1], box[0]+box[2], box[1]+box[3], (255,0,0), 1)\n",
    "        display.show(img)\n",
    "    else:\n",
    "        display.show(img)\n"
   ]
  },
  {
   "cell_type": "markdown",
   "metadata": {},
   "source": [
    "# 在 MaixSense 上部署目标检测\n",
    "识别 labels 中的物品类型"
   ]
  },
  {
   "cell_type": "code",
   "execution_count": 1,
   "metadata": {},
   "outputs": [
    {
     "name": "stdout",
     "output_type": "stream",
     "text": [
      "[ rpyc-kernel ]( running at Fri Jul 21 16:53:29 2023 )\n",
      "<class 'rpyc.core.protocol.Yolo'>\n"
     ]
    }
   ],
   "source": [
    "\n",
    "class Yolo:\n",
    "    labels = [\"aeroplane\",\"bicycle\",\"bird\",\"boat\",\"bottle\",\"bus\",\"car\",\"cat\",\"chair\",\"cow\",\"diningtable\",\"dog\",\"horse\",\"motorbike\",\"person\",\"pottedplant\",\"sheep\",\"sofa\",\"train\",\"tvmonitor\"]\n",
    "    anchors = [0.4165, 0.693 , 0.9765, 1.6065, 1.5855, 3.122 , 2.821 , 1.8515 , 3.612 , 3.7275]\n",
    "    m = {\n",
    "        \"bin\": \"/home/model/aipu_yolo_VOC2007.bin\"\n",
    "    }\n",
    "    options = {\n",
    "        \"model_type\":  \"aipu\",\n",
    "        \"inputs\": {\n",
    "            \"input0\": (224, 224, 3)\n",
    "        },\n",
    "        \"outputs\": {\n",
    "             \"output0\": (7, 7, (1+4+len(labels))*5)\n",
    "        },\n",
    "        \"mean\": [127.5, 127.5, 127.5],\n",
    "        \"norm\": [0.0078125, 0.0078125, 0.0078125],\n",
    "        \"scale\":[8.031941],\n",
    "    }\n",
    "    def __init__(self):\n",
    "        from maix import nn\n",
    "        from maix.nn import decoder\n",
    "        self.model = nn.load(self.m, opt=self.options)\n",
    "        self.decoder = decoder.Yolo2(len(self.labels), self.anchors, net_in_size=(224, 224), net_out_size=(7, 7))\n",
    "    def __del__(self):\n",
    "        del self.model\n",
    "        del self.decoder\n",
    "print(Yolo)\n"
   ]
  },
  {
   "cell_type": "code",
   "execution_count": 1,
   "metadata": {},
   "outputs": [
    {
     "name": "stdout",
     "output_type": "stream",
     "text": [
      "[ rpyc-kernel ]( running at Fri Jul 21 16:53:37 2023 )\n",
      "[camera] config input size(240, 240)\n"
     ]
    },
    {
     "data": {
      "text/plain": [
       "\r\n",
       "Traceback (most recent call last):\r\n",
       "  File \"<string>\", line unknown, in <module>\r\n",
       "Remote.KeyboardInterrupt\r\n"
      ]
     },
     "execution_count": 1,
     "metadata": {},
     "output_type": "execute_result"
    }
   ],
   "source": [
    "from maix import camera, display\n",
    "yolo = Yolo()\n",
    "print(yolo)\n",
    "while True:\n",
    "    img = camera.capture().resize(224,224)\n",
    "    out = yolo.model.forward(img, quantize=True, layout=\"chw\")\n",
    "    boxes, probs = yolo.decoder.run(out, nms=0.5, threshold=0.5, img_size=(224, 224))\n",
    "    if len(boxes):\n",
    "        for i, box in enumerate(boxes):\n",
    "            class_id = probs[i][0]\n",
    "            prob = probs[i][1][class_id]\n",
    "            disp_str = \"{}:{:.2f}%\".format(yolo.labels[class_id], prob*100)\n",
    "            img.draw_rectangle(box[0], box[1], box[0]+box[2], box[1]+box[3], (255,0,0), 1)\n",
    "            img.draw_string(box[0], box[1]+ box[3] ,disp_str, scale=0.5,color=(0, 0, 255), thickness=1)\n",
    "        display.show(img)\n",
    "    else:\n",
    "        display.show(img)\n"
   ]
  },
  {
   "cell_type": "markdown",
   "metadata": {},
   "source": [
    "# 数字识别\n",
    "将模型读取到python环境中"
   ]
  },
  {
   "cell_type": "code",
   "execution_count": 1,
   "metadata": {},
   "outputs": [
    {
     "name": "stdout",
     "output_type": "stream",
     "text": [
      "[ rpyc-kernel ]( running at Fri Jul 21 17:02:35 2023 )\n",
      "<class 'rpyc.core.protocol.Number_recognition'>\n"
     ]
    }
   ],
   "source": [
    "class Number_recognition:\n",
    "    labels = [\"1\", \"2\", \"3\", \"4\", \"5\", \"6\", \"7\", \"8\"]\n",
    "    anchors = [2.44, 2.25, 5.03, 4.91, 3.5 , 3.53, 4.16, 3.94, 2.97, 2.84]\n",
    "    model = {\n",
    "        \"param\": \"/root/number_awnn.param\",\n",
    "        \"bin\": \"/root/number_awnn.bin\"\n",
    "    }\n",
    "    options = {\n",
    "        \"model_type\":  \"awnn\",\n",
    "        \"inputs\": {\n",
    "            \"input0\": (224, 224, 3)\n",
    "        },\n",
    "        \"outputs\": {\n",
    "            \"output0\": (7, 7, (1+4+len(labels))*5)\n",
    "        },\n",
    "        \"mean\": [127.5, 127.5, 127.5],\n",
    "        \"norm\": [0.0078125, 0.0078125, 0.0078125],\n",
    "    }\n",
    "    w = options[\"inputs\"][\"input0\"][1]\n",
    "    h = options[\"inputs\"][\"input0\"][0]\n",
    "    def __init__(self):\n",
    "        from maix import nn\n",
    "        from maix.nn import decoder\n",
    "        self.m = nn.load(self.model, opt=self.options)\n",
    "        self.yolo2_decoder = decoder.Yolo2(len(self.labels), self.anchors, net_in_size=(self.w, self.h), net_out_size=(7, 7))\n",
    "    def map_face(self, box):                           #将224*224空间的位置转换到240*240空间内\n",
    "        def tran(x):\n",
    "            return int(x/224*240)\n",
    "        box = list(map(tran, box))\n",
    "        return box\n",
    "print(Number_recognition)"
   ]
  },
  {
   "cell_type": "markdown",
   "metadata": {},
   "source": [
    "开始数字识别"
   ]
  },
  {
   "cell_type": "code",
   "execution_count": 1,
   "metadata": {},
   "outputs": [
    {
     "data": {
      "image/jpeg": "[encoded data removed]"
     },
     "metadata": {},
     "output_type": "display_data"
    },
    {
     "data": {
      "text/plain": [
       "\r\n",
       "Traceback (most recent call last):\r\n",
       "  File \"<string>\", line unknown, in <module>\r\n",
       "Remote.KeyboardInterrupt\r\n"
      ]
     },
     "execution_count": 1,
     "metadata": {},
     "output_type": "execute_result"
    }
   ],
   "source": [
    "from maix import camera, display, image\n",
    "number_recognition = Number_recognition()\n",
    "while True:\n",
    "    img = camera.capture()\n",
    "    AI_img = img.copy().resize(224, 224)\n",
    "    out = number_recognition.m.forward(AI_img.tobytes(), quantize=True, layout=\"hwc\")\n",
    "    boxes, probs = number_recognition.yolo2_decoder.run(out, nms=0.3, threshold=0.5, img_size=(240, 240))\n",
    "    for i, box in enumerate(boxes):\n",
    "        class_id = probs[i][0]\n",
    "        prob = probs[i][1][class_id]\n",
    "        disp_str = \"{}:{:.2f}%\".format(number_recognition.labels[class_id], prob*100)\n",
    "        font_wh = image.get_string_size(disp_str)\n",
    "        box = number_recognition.map_face(box)\n",
    "        img.draw_rectangle(box[0], box[1], box[0] + box[2], box[1] + box[3], color = (255, 0, 0), thickness=2)\n",
    "        img.draw_rectangle(box[0], box[1] - font_wh[1], box[0] + font_wh[0], box[1], color= (255, 0, 0))\n",
    "        img.draw_string(box[0], box[1] - font_wh[1], disp_str, color= (255, 0, 0))\n",
    "    display.show(img)\n"
   ]
  },
  {
   "cell_type": "markdown",
   "metadata": {},
   "source": [
    "# 人脸识别"
   ]
  },
  {
   "cell_type": "code",
   "execution_count": 1,
   "metadata": {},
   "outputs": [
    {
     "name": "stdout",
     "output_type": "stream",
     "text": [
      "[ rpyc-kernel ]( running at Fri Jul 21 17:13:08 2023 )\n",
      "<class 'rpyc.core.protocol.Face_recognize'>\n"
     ]
    }
   ],
   "source": [
    "\n",
    "class Face_recognize:\n",
    "    score_threshold = 70                            #识别分数阈值\n",
    "    input_size = (224, 224, 3)                      #输入图片尺寸\n",
    "    input_size_fe = (128, 128, 3)                   #输入人脸数据\n",
    "    feature_len = 256                               #人脸数据宽度\n",
    "    steps = [8, 16, 32]                             #\n",
    "    channel_num = 0                                 #通道数量\n",
    "    users = []                                      #初始化用户列表\n",
    "    threshold = 0.5                                         #人脸阈值\n",
    "    nms = 0.3                                               \n",
    "    max_face_num = 3                                        #输出的画面中的人脸的最大个数\n",
    "    names = [\"A\", \"B\", \"C\", \"D\", \"E\", \"F\", \"G\", \"H\", \"I\", \"J\", \"K\", \"L\", \"M\", \"N\", \"O\", \"P\", \"Q\", \"R\", \"S\", \"T\", \"U\", \"V\", \"W\", \"X\", \"Y\", \"Z\"]  #人脸标签定义\n",
    "    model = {                                                                                                                                   \n",
    "        \"param\": \"/home/model/face_recognize/model_int8.param\",\n",
    "        \"bin\": \"/home/model/face_recognize/model_int8.bin\"\n",
    "    }\n",
    "    model_fe = {\n",
    "        \"param\": \"/home/model/face_recognize/fe_res18_117.param\",\n",
    "        \"bin\": \"/home/model/face_recognize/fe_res18_117.bin\"\n",
    "    }\n",
    "    def __init__(self):\n",
    "        from maix import nn\n",
    "        from maix.nn.app.face import FaceRecognize\n",
    "        for i in range(len(self.steps)):\n",
    "            self.channel_num += self.input_size[1] / self.steps[i] * (self.input_size[0] / self.steps[i]) * 2\n",
    "        self.channel_num = int(self.channel_num)     #统计通道数量\n",
    "        self.options = {                             #准备人脸输出参数\n",
    "            \"model_type\":  \"awnn\",\n",
    "            \"inputs\": {\n",
    "                \"input0\": self.input_size\n",
    "            },\n",
    "            \"outputs\": {\n",
    "                \"output0\": (1, 4, self.channel_num) ,\n",
    "                \"431\": (1, 2, self.channel_num) ,\n",
    "                \"output2\": (1, 10, self.channel_num) \n",
    "            },\n",
    "            \"mean\": [127.5, 127.5, 127.5],\n",
    "            \"norm\": [0.0078125, 0.0078125, 0.0078125],\n",
    "        }\n",
    "        self.options_fe = {                             #准备特征提取参数\n",
    "            \"model_type\":  \"awnn\",\n",
    "            \"inputs\": {\n",
    "                \"inputs_blob\": self.input_size_fe\n",
    "            },\n",
    "            \"outputs\": {\n",
    "                \"FC_blob\": (1, 1, self.feature_len)\n",
    "            },\n",
    "            \"mean\": [127.5, 127.5, 127.5],\n",
    "            \"norm\": [0.0078125, 0.0078125, 0.0078125],\n",
    "        }\n",
    "        print(\"-- load model:\", self.model)\n",
    "        self.m = nn.load(self.model, opt=self.options)\n",
    "        print(\"-- load ok\")\n",
    "        print(\"-- load model:\", self.model_fe)\n",
    "        self.m_fe = nn.load(self.model_fe, opt=self.options_fe)\n",
    "        print(\"-- load ok\")\n",
    "        self.face_recognizer = FaceRecognize(self.m, self.m_fe, self.feature_len, self.input_size, self.threshold, self.nms, self.max_face_num)\n",
    "    def map_face(self,box,points):                           #将224*224空间的位置转换到240*240或320*240空间内\n",
    "        from maix import display # print(box,points)\n",
    "        if display.width() == display.height():\n",
    "            def tran(x):\n",
    "                return int(x/224*display.width())\n",
    "            box = list(map(tran, box))\n",
    "            def tran_p(p):\n",
    "                return list(map(tran, p))\n",
    "            points = list(map(tran_p, points))\n",
    "        else:\n",
    "            # 168x224(320x240) > 224x224(240x240) > 320x240\n",
    "            s = (224*display.height()/display.width()) # 168x224\n",
    "            w, h, c = display.width()/224, display.height()/224, 224/s\n",
    "            t, d = c*h, (224 - s) // 2 # d = 224 - s // 2 == 28\n",
    "            box[0], box[1], box[2], box[3] = int(box[0]*w), int((box[1]-28)*t), int(box[2]*w), int((box[3])*t)\n",
    "            def tran_p(p):\n",
    "                return [int(p[0]*w), int((p[1]-d)*t)] # 224 - 168 / 2 = 28 so 168 / (old_h - 28) = 240 / new_h\n",
    "            points = list(map(tran_p, points))\n",
    "        # print(box,points)\n",
    "        return box,points\n",
    "    def recognize(self, feature):                                                                   #进行人脸匹配\n",
    "        def _compare(user):                                                         #定义映射函数\n",
    "            return self.face_recognizer.compare(user, feature)                      #推测匹配分数 score相关分数\n",
    "        face_score_l = list(map(_compare,self.users))                               #映射特征数据在记录中的比对分数\n",
    "        return max(enumerate(face_score_l), key=lambda x: x[-1])                #提取出人脸分数最大值和最大值所在的位置\n",
    "    def __del__(self):\n",
    "        del self.face_recognizer\n",
    "        del self.m_fe\n",
    "        del self.m\n",
    "print(Face_recognize)\n"
   ]
  },
  {
   "cell_type": "code",
   "execution_count": 1,
   "metadata": {},
   "outputs": [
    {
     "data": {
      "image/jpeg": "[encoded data removed]"
     },
     "metadata": {},
     "output_type": "display_data"
    },
    {
     "data": {
      "text/plain": [
       "\r\n",
       "Traceback (most recent call last):\r\n",
       "  File \"<string>\", line unknown, in <module>\r\n",
       "Remote.KeyboardInterrupt\r\n"
      ]
     },
     "execution_count": 1,
     "metadata": {},
     "output_type": "execute_result"
    }
   ],
   "source": [
    "from maix import camera, image, display\n",
    "\n",
    "face_recognizer = Face_recognize()\n",
    "while True:\n",
    "    img = camera.capture()                       #获取224*224*3的图像数据\n",
    "    AI_img = img.copy().resize(224, 224)\n",
    "    faces = face_recognizer.face_recognizer.get_faces(AI_img.tobytes(),False)           #提取人脸特征信息\n",
    "    \n",
    "    if faces:\n",
    "        for prob, box, landmarks, feature in faces:\n",
    "            disp_str = \"Unmarked face\"\n",
    "            bg_color = (255, 0, 0)\n",
    "            font_color=(255, 255, 255)\n",
    "            box,points = face_recognizer.map_face(box,landmarks)\n",
    "            font_wh = image.get_string_size(disp_str)\n",
    "            for p in points:\n",
    "                img.draw_rectangle(p[0] - 1, p[1] -1, p[0] + 1, p[1] + 1, color=bg_color)\n",
    "            img.draw_rectangle(box[0], box[1], box[0] + box[2], box[1] + box[3], color=bg_color, thickness=2)\n",
    "            img.draw_rectangle(box[0], box[1] - font_wh[1], box[0] + font_wh[0], box[1], color=bg_color, thickness = -1)\n",
    "            img.draw_string(box[0], box[1] - font_wh[1], disp_str, color=font_color)\n",
    "    display.show(img)"
   ]
  },
  {
   "cell_type": "code",
   "execution_count": 1,
   "metadata": {},
   "outputs": [
    {
     "name": "stdout",
     "output_type": "stream",
     "text": [
      "[ rpyc-kernel ]( running at Fri Jul 21 17:15:18 2023 )\n"
     ]
    }
   ],
   "source": [
    "from maix import camera, image, display\n",
    "face_flage = 1\n",
    "while face_flage:\n",
    "    img = camera.capture()                       #获取224*224*3的图像数据\n",
    "    AI_img = img.copy().resize(224, 224)\n",
    "    faces = face_recognizer.face_recognizer.get_faces(AI_img.tobytes(),False)           #提取人脸特征信息\n",
    "    \n",
    "    if faces:\n",
    "        for prob, box, landmarks, feature in faces:\n",
    "            if len(face_recognizer.users) < len(face_recognizer.names):\n",
    "                face_recognizer.users.append(feature)\n",
    "                face_flage = 0\n",
    "            else:\n",
    "                print(\"user full\")\n",
    "            disp_str = \"add face\"\n",
    "            bg_color = (0, 255, 0)\n",
    "            font_color=(0, 0, 255)\n",
    "            box,points = face_recognizer.map_face(box,landmarks)\n",
    "            font_wh = image.get_string_size(disp_str)\n",
    "            for p in points:\n",
    "                img.draw_rectangle(p[0] - 1, p[1] -1, p[0] + 1, p[1] + 1, color=bg_color)\n",
    "            img.draw_rectangle(box[0], box[1], box[0] + box[2], box[1] + box[3], color=bg_color, thickness=2)\n",
    "            img.draw_rectangle(box[0], box[1] - font_wh[1], box[0] + font_wh[0], box[1], color=bg_color, thickness = -1)\n",
    "            img.draw_string(box[0], box[1] - font_wh[1], disp_str, color=font_color)\n",
    "    display.show(img)"
   ]
  },
  {
   "cell_type": "code",
   "execution_count": 1,
   "metadata": {},
   "outputs": [
    {
     "data": {
      "image/jpeg": "[encoded data removed]"
     },
     "metadata": {},
     "output_type": "display_data"
    },
    {
     "data": {
      "text/plain": [
       "\r\n",
       "Traceback (most recent call last):\r\n",
       "  File \"<string>\", line unknown, in <module>\r\n",
       "Remote.KeyboardInterrupt\r\n"
      ]
     },
     "execution_count": 1,
     "metadata": {},
     "output_type": "execute_result"
    }
   ],
   "source": [
    "from maix import camera, image, display\n",
    "while True:\n",
    "    img = camera.capture()                       #获取224*224*3的图像数据\n",
    "    AI_img = img.copy().resize(224, 224)\n",
    "    faces = face_recognizer.face_recognizer.get_faces(AI_img.tobytes(),False)           #提取人脸特征信息\n",
    "    \n",
    "    if faces:\n",
    "        for prob, box, landmarks, feature in faces:\n",
    "            if len(face_recognizer.users):                             #判断是否记录人脸\n",
    "                maxIndex = face_recognizer.recognize(feature)\n",
    "\n",
    "                if maxIndex[1] > face_recognizer.score_threshold:                                      #判断人脸识别阈值,当分数大于阈值时认为是同一张脸,当分数小于阈值时认为是相似脸\n",
    "                    disp_str = \"{}\".format(face_recognizer.names[maxIndex[0]])\n",
    "                    bg_color = (0, 255, 0)\n",
    "                    font_color=(0, 0, 255)\n",
    "                    box,points = face_recognizer.map_face(box,landmarks)\n",
    "                    font_wh = image.get_string_size(disp_str)\n",
    "                    for p in points:\n",
    "                        img.draw_rectangle(p[0] - 1, p[1] -1, p[0] + 1, p[1] + 1, color=bg_color)\n",
    "                    img.draw_rectangle(box[0], box[1], box[0] + box[2], box[1] + box[3], color=bg_color, thickness=2)\n",
    "                    img.draw_rectangle(box[0], box[1] - font_wh[1], box[0] + font_wh[0], box[1], color=bg_color, thickness = -1)\n",
    "                    img.draw_string(box[0], box[1] - font_wh[1], disp_str, color=font_color)  \n",
    "                else:\n",
    "                    disp_str = \"error face\"\n",
    "                    bg_color = (255, 0, 0)\n",
    "                    font_color=(255, 255, 255)\n",
    "                    box,points = face_recognizer.map_face(box,landmarks)\n",
    "                    font_wh = image.get_string_size(disp_str)\n",
    "                    for p in points:\n",
    "                        img.draw_rectangle(p[0] - 1, p[1] -1, p[0] + 1, p[1] + 1, color=bg_color)\n",
    "                    img.draw_rectangle(box[0], box[1], box[0] + box[2], box[1] + box[3], color=bg_color, thickness=2)\n",
    "                    img.draw_rectangle(box[0], box[1] - font_wh[1], box[0] + font_wh[0], box[1], color=bg_color, thickness = -1)\n",
    "                    img.draw_string(box[0], box[1] - font_wh[1], disp_str, color=font_color)  \n",
    "            else:                                           #没有记录脸                \n",
    "                disp_str = \"error face\"\n",
    "                bg_color = (255, 0, 0)\n",
    "                font_color=(255, 255, 255)\n",
    "                box,points = face_recognizer.map_face(box,landmarks)\n",
    "                font_wh = image.get_string_size(disp_str)\n",
    "                for p in points:\n",
    "                    img.draw_rectangle(p[0] - 1, p[1] -1, p[0] + 1, p[1] + 1, color=bg_color)\n",
    "                img.draw_rectangle(box[0], box[1], box[0] + box[2], box[1] + box[3], color=bg_color, thickness=2)\n",
    "                img.draw_rectangle(box[0], box[1] - font_wh[1], box[0] + font_wh[0], box[1], color=bg_color, thickness = -1)\n",
    "                img.draw_string(box[0], box[1] - font_wh[1], disp_str, color=font_color)\n",
    "    display.show(img)"
   ]
  },
  {
   "cell_type": "code",
   "execution_count": 1,
   "metadata": {},
   "outputs": [
    {
     "data": {
      "image/jpeg": "[encoded data removed]"
     },
     "metadata": {},
     "output_type": "display_data"
    },
    {
     "data": {
      "text/plain": [
       "\r\n",
       "Traceback (most recent call last):\r\n",
       "  File \"<string>\", line unknown, in <module>\r\n",
       "Remote.KeyboardInterrupt\r\n"
      ]
     },
     "execution_count": 1,
     "metadata": {},
     "output_type": "execute_result"
    }
   ],
   "source": [
    "from maix import camera, image, display\n",
    "while True:\n",
    "    img = camera.capture()                       #获取224*224*3的图像数据\n",
    "    AI_img = img.copy().resize(224, 224)\n",
    "    faces = face_recognizer.face_recognizer.get_faces(AI_img.tobytes(),False)           #提取人脸特征信息\n",
    "    \n",
    "    if faces:\n",
    "        for prob, box, landmarks, feature in faces:\n",
    "            if len(face_recognizer.users):                             #判断是否记录人脸\n",
    "                maxIndex = face_recognizer.recognize(feature)\n",
    "\n",
    "                if maxIndex[1] > face_recognizer.score_threshold:                                      #判断人脸识别阈值,当分数大于阈值时认为是同一张脸,当分数小于阈值时认为是相似脸\n",
    "                    disp_str = \"{}\".format(face_recognizer.names[maxIndex[0]])\n",
    "                    bg_color = (0, 255, 0)\n",
    "                    font_color=(0, 0, 255)\n",
    "                    box,points = face_recognizer.map_face(box,landmarks)\n",
    "                    font_wh = image.get_string_size(disp_str)\n",
    "                    for p in points:\n",
    "                        img.draw_rectangle(p[0] - 1, p[1] -1, p[0] + 1, p[1] + 1, color=bg_color)\n",
    "                    img.draw_rectangle(box[0], box[1], box[0] + box[2], box[1] + box[3], color=bg_color, thickness=2)\n",
    "                    img.draw_rectangle(box[0], box[1] - font_wh[1], box[0] + font_wh[0], box[1], color=bg_color, thickness = -1)\n",
    "                    img.draw_string(box[0], box[1] - font_wh[1], disp_str, color=font_color)  \n",
    "                else:\n",
    "                    disp_str = \"error face\"\n",
    "                    bg_color = (255, 0, 0)\n",
    "                    font_color=(255, 255, 255)\n",
    "                    box,points = face_recognizer.map_face(box,landmarks)\n",
    "                    font_wh = image.get_string_size(disp_str)\n",
    "                    for p in points:\n",
    "                        img.draw_rectangle(p[0] - 1, p[1] -1, p[0] + 1, p[1] + 1, color=bg_color)\n",
    "                    img.draw_rectangle(box[0], box[1], box[0] + box[2], box[1] + box[3], color=bg_color, thickness=2)\n",
    "                    img.draw_rectangle(box[0], box[1] - font_wh[1], box[0] + font_wh[0], box[1], color=bg_color, thickness = -1)\n",
    "                    img.draw_string(box[0], box[1] - font_wh[1], disp_str, color=font_color)  \n",
    "            else:                                           #没有记录脸                \n",
    "                disp_str = \"error face\"\n",
    "                bg_color = (255, 0, 0)\n",
    "                font_color=(255, 255, 255)\n",
    "                box,points = face_recognizer.map_face(box,landmarks)\n",
    "                font_wh = image.get_string_size(disp_str)\n",
    "                for p in points:\n",
    "                    img.draw_rectangle(p[0] - 1, p[1] -1, p[0] + 1, p[1] + 1, color=bg_color)\n",
    "                img.draw_rectangle(box[0], box[1], box[0] + box[2], box[1] + box[3], color=bg_color, thickness=2)\n",
    "                img.draw_rectangle(box[0], box[1] - font_wh[1], box[0] + font_wh[0], box[1], color=bg_color, thickness = -1)\n",
    "                img.draw_string(box[0], box[1] - font_wh[1], disp_str, color=font_color)\n",
    "    display.show(img)"
   ]
  },
  {
   "cell_type": "code",
   "execution_count": 1,
   "metadata": {},
   "outputs": [
    {
     "name": "stdout",
     "output_type": "stream",
     "text": [
      "[ rpyc-kernel ]( running at Fri Jul 21 17:22:27 2023 )\n"
     ]
    },
    {
     "data": {
      "text/plain": [
       "_get_exception_class.<locals>.Derived: name 'Self_learn' is not defined\n",
       "\n",
       "========= Remote Traceback (1) =========\n",
       "Traceback (most recent call last):\n",
       "  File \"/usr/lib/python3.8/site-packages/rpyc/core/protocol.py\", line 324, in _dispatch_request\n",
       "  File \"/usr/lib/python3.8/site-packages/rpyc/core/protocol.py\", line 592, in _handle_call\n",
       "  File \"<string>\", line 4, in <module>\n",
       "NameError: name 'Self_learn' is not defined\n",
       "\n"
      ]
     },
     "execution_count": 1,
     "metadata": {},
     "output_type": "execute_result"
    }
   ],
   "source": [
    "#自学习分类\n",
    "from maix import nn\n",
    "from maix import camera, display\n",
    "import time\n",
    "\n",
    "class Self_learn:\n",
    "    model = {\n",
    "        \"param\": \"/home/model/resnet18_1000_awnn.param\",\n",
    "        \"bin\": \"/home/model/resnet18_1000_awnn.bin\"\n",
    "    }\n",
    "    options = {\n",
    "        \"model_type\":  \"awnn\",\n",
    "        \"inputs\": {\n",
    "            \"input0\": (224, 224, 3)\n",
    "        },\n",
    "        \"outputs\": {\n",
    "            \"190\": (1, 1, 512)\n",
    "        },\n",
    "        \"mean\": [127.5, 127.5, 127.5],\n",
    "        \"norm\": [0.0176, 0.0176, 0.0176],\n",
    "    }\n",
    "    class_num = 3  #学习类别\n",
    "    sample_num = 15  #学习类别总数量\n",
    "    curr_class = 0\n",
    "    curr_sample = 0    \n",
    "    def __init__(self):\n",
    "        from maix import nn\n",
    "        from maix.nn.app.classifier import Classifier\n",
    "        print(\"-- load model:\", self.model)\n",
    "        self.m = nn.load(self.model, opt=self.options)\n",
    "        print(\"-- load ok\")\n",
    "        print(\"-- load classifier\")\n",
    "        self.classifier = Classifier(self.m, self.class_num, self.sample_num, 512, 224, 224)\n",
    "        print(\"-- load ok\")\n"
   ]
  },
  {
   "cell_type": "code",
   "execution_count": null,
   "metadata": {},
   "outputs": [],
   "source": [
    "import time\n",
    "from maix import camera, display\n",
    "\n",
    "self_learn = Self_learn()\n",
    "for x in range(3):\n",
    "    t = time.time()\n",
    "    while True:\n",
    "        if (time.time() - t) > 2:\n",
    "            img = camera.capture().resize(224, 224)\n",
    "            self_learn.classifier.add_class_img(img)\n",
    "            display.show(img)\n",
    "            time.sleep(2)\n",
    "            print(\"add ok!\")\n",
    "            break\n",
    "        img = camera.capture()\n",
    "        display.show(img)\n"
   ]
  },
  {
   "cell_type": "code",
   "execution_count": null,
   "metadata": {},
   "outputs": [],
   "source": [
    "import time\n",
    "from maix import nn\n",
    "from maix import camera, display\n",
    "\n",
    "for x in range(3):\n",
    "    t = time.time()\n",
    "    while True:\n",
    "        if (time.time() - t) > 2:\n",
    "            for i in range(5):\n",
    "                img = camera.capture().resize(224, 224)\n",
    "                self_learn.classifier.add_sample_img(img)\n",
    "                display.show(img)\n",
    "            time.sleep(2)\n",
    "            break\n",
    "        display.show(camera.capture())"
   ]
  },
  {
   "cell_type": "code",
   "execution_count": null,
   "metadata": {},
   "outputs": [],
   "source": []
  },
  {
   "cell_type": "code",
   "execution_count": null,
   "metadata": {},
   "outputs": [],
   "source": []
  },
  {
   "cell_type": "code",
   "execution_count": null,
   "metadata": {},
   "outputs": [],
   "source": [
    "#自学习分类"
   ]
  },
  {
   "cell_type": "markdown",
   "metadata": {},
   "source": [
    "# 车牌识别"
   ]
  },
  {
   "cell_type": "code",
   "execution_count": 1,
   "metadata": {},
   "outputs": [
    {
     "name": "stdout",
     "output_type": "stream",
     "text": [
      "[ rpyc-kernel ]( running at Fri Jul 21 17:24:38 2023 )\n"
     ]
    },
    {
     "data": {
      "text/plain": [
       "\r\n",
       "Traceback (most recent call last):\r\n",
       "  File \"<string>\", line unknown, in <module>\r\n",
       "Remote.KeyboardInterrupt\r\n"
      ]
     },
     "execution_count": 1,
     "metadata": {},
     "output_type": "execute_result"
    }
   ],
   "source": [
    "from time import time\n",
    "\n",
    "class LPR:\n",
    "    loc_model_path = {\n",
    "        \"param\": \"/root/app/slim_awnn.param\",\n",
    "        \"bin\": \"/root/app/slim_awnn.bin\"\n",
    "    }\n",
    "    loc_model_options = {\n",
    "        \"model_type\":  \"awnn\",\n",
    "        \"inputs\": {\n",
    "            \"input0\": (224, 224, 3)\n",
    "        },\n",
    "        \"outputs\": {\n",
    "            \"output0\": (1, 4, 2058),\n",
    "            \"output1\": (1, 2, 2058),\n",
    "            \"output2\": (1, 8, 2058),\n",
    "        },\n",
    "        \"mean\": [127.5, 127.5, 127.5],\n",
    "        \"norm\": [0.0078125, 0.0078125, 0.0078125],\n",
    "    }\n",
    "    reg_model_path = {\n",
    "        \"param\": \"/root/app/lpr_awnn.param\",\n",
    "        \"bin\": \"/root/app/lpr_awnn.bin\"\n",
    "    }\n",
    "    reg_model_options = {\n",
    "        \"model_type\":  \"awnn\",\n",
    "        \"inputs\": {\n",
    "            \"input0\": (24, 94, 3)\n",
    "        },\n",
    "        \"outputs\": {\n",
    "            \"output0\": (68, 18, 1),\n",
    "        },\n",
    "        \"mean\": [127.5, 127.5, 127.5],\n",
    "        \"norm\": [0.0078125, 0.0078125, 0.0078125],\n",
    "    }\n",
    "\n",
    "    chars =[ \"皖\", \"沪\", \"津\", \"渝\", \"冀\", \"晋\", \"蒙\", \"辽\", \"吉\", \"黑\",\n",
    "                    \"苏\", \"浙\", \"京\", \"闽\", \"赣\", \"鲁\", \"豫\", \"鄂\", \"湘\" , \"粤\",\n",
    "                    \"桂\", \"琼\", \"川\", \"贵\", \"云\", \"藏\", \"陕\", \"甘\", \"青\" , \"宁\",\n",
    "                    \"新\", \"警\", \"学\", \"A\"  , \"B\" ,  \"C\" ,  \"D\" ,  \"E\" ,  \"F\"  ,  \"G\",\n",
    "                    \"H\" ,   \"J\" ,  \"K\" ,  \"L\" , \"M\" , \"N\" ,  \"P\" ,  \"Q\" ,  \"R\" , \"S\",\n",
    "                    \"T\" ,  \"U\" ,  \"V\" , \"W\", \"X\"  , \"Y\" , \"Z\" , \"0\" , \"1\", \"2\", \"3\",\n",
    "                    \"4\", \"5\", \"6\", \"7\", \"8\", \"9\", \"-\"]\n",
    "\n",
    "    variances = [0.1, 0.2]\n",
    "    steps = [8, 16, 32]\n",
    "    min_sizes = [12, 24, 48, 96, 192, 320]\n",
    "\n",
    "    def __init__(self) -> None:\n",
    "        from maix import nn\n",
    "        self.loc_model = nn.load(self.loc_model_path , opt = self.loc_model_options)\n",
    "        self.reg_model = nn.load(self.reg_model_path , opt = self.reg_model_options)\n",
    "\n",
    "        from maix.nn import decoder\n",
    "        self.loc_decoder = decoder.license_plate_location([224,224] , self.steps , self.min_sizes, self.variances)\n",
    "        self.reg_decoder  = decoder.CTC((1,68,18))\n",
    "\n",
    "    def __del__(self):\n",
    "        del self.loc_model\n",
    "        del self.loc_decoder\n",
    "\n",
    "    def cal_fps(self ,start , end):\n",
    "        one_second = 1\n",
    "        one_flash = end - start\n",
    "        fps = one_second / one_flash\n",
    "        return  fps\n",
    "\n",
    "    def  draw_fps(self,img , fps):\n",
    "        img.draw_string(0, 0 ,'FPS :'+str(fps), scale=1,color=(255, 0, 255), thickness=1)\n",
    "\n",
    "    def draw_string(self , img , x , y , string , color):\n",
    "        img.draw_string( x , y , string ,color = color)\n",
    "\n",
    "    def draw_paste(self , src ,dst):\n",
    "        src.paste(dst , 0 , 0)\n",
    "\n",
    "    def draw_rectangle(self,img, box):\n",
    "        img.draw_rectangle(box[0], box[1], box[2], box[3],color=(230 ,230, 250), thickness=2)\n",
    "\n",
    "    def draw_point(self,img,landmark):\n",
    "        for i in range(4):\n",
    "            x = landmark[2 * i ]\n",
    "            y = landmark[2 * i + 1]\n",
    "            img.draw_rectangle(x-2,y-2, x+2,y+2,color= (193 ,255 ,193), thickness =-1)\n",
    "\n",
    "    def process(self,input):\n",
    "        loc_out = self.loc_model.forward(input, quantize=1, layout = \"chw\") # retinaface decoder only support chw layout\n",
    "        boxes , landmarks = self.loc_decoder.run(loc_out, nms = 0.2 ,score_thresh = 0.7 , outputs_shape =[[1,4,2058],[1,2,2058],[1,8,2058]])\n",
    "\n",
    "        for i,box in enumerate(boxes):\n",
    "\n",
    "            landmark = landmarks[i][:6]\n",
    "            reg_in  = input.crop_affine(landmark , 94 , 24)\n",
    "            reg_out = self.reg_model.forward(reg_in ,  quantize=1, layout = \"chw\")\n",
    "\n",
    "            LP_number = self.reg_decoder.run(reg_out)\n",
    "            string_LP = ''\n",
    "            for id in LP_number:\n",
    "                string_LP += self.chars[id]\n",
    "                # string_LP += str(id)\n",
    "\n",
    "            self.draw_string(input , box[0], box[1] , string_LP  ,color=(225,0,0))\n",
    "            self.draw_paste(input , reg_in)\n",
    "            self.draw_rectangle(input,box)\n",
    "            self.draw_point(input , landmarks[i])\n",
    "\n",
    "def main():\n",
    "    from maix import display, camera , image\n",
    "    image.load_freetype(\"/home/res/sans.ttf\")\n",
    "    app  = LPR()\n",
    "    while True:\n",
    "        img = camera.capture().resize(size=(224,224))\n",
    "        app.process(img)\n",
    "        display.show(img)\n",
    "        # break\n",
    "\n",
    "main()"
   ]
  },
  {
   "cell_type": "code",
   "execution_count": null,
   "metadata": {},
   "outputs": [],
   "source": []
  }
 ],
 "metadata": {
  "kernelspec": {
   "display_name": "RPyc-Python",
   "language": "Python",
   "name": "rpyc"
  },
  "language_info": {
   "codemirror_mode": "python",
   "file_extension": ".py",
   "mimetype": "text/python",
   "name": "Python"
  }
 },
 "nbformat": 4,
 "nbformat_minor": 4
}
